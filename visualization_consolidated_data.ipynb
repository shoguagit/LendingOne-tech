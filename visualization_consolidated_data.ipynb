{
 "cells": [
  {
   "cell_type": "code",
   "execution_count": 2,
   "id": "4403e0d2-64ea-4c63-abc4-eb3db13c8b04",
   "metadata": {},
   "outputs": [
    {
     "name": "stdout",
     "output_type": "stream",
     "text": [
      "<class 'pandas.core.frame.DataFrame'>\n",
      "RangeIndex: 10 entries, 0 to 9\n",
      "Data columns (total 9 columns):\n",
      " #   Column                     Non-Null Count  Dtype  \n",
      "---  ------                     --------------  -----  \n",
      " 0   Unnamed: 0                 10 non-null     int64  \n",
      " 1   transaction_id             10 non-null     int64  \n",
      " 2   customer_name_transaction  10 non-null     object \n",
      " 3   amount                     10 non-null     int64  \n",
      " 4   transaction_date           10 non-null     object \n",
      " 5   matched_name               7 non-null      object \n",
      " 6   customer_id                7 non-null      float64\n",
      " 7   customer_name_customer     7 non-null      object \n",
      " 8   email                      7 non-null      object \n",
      "dtypes: float64(1), int64(3), object(5)\n",
      "memory usage: 848.0+ bytes\n",
      "None\n"
     ]
    },
    {
     "data": {
      "text/html": [
       "<div>\n",
       "<style scoped>\n",
       "    .dataframe tbody tr th:only-of-type {\n",
       "        vertical-align: middle;\n",
       "    }\n",
       "\n",
       "    .dataframe tbody tr th {\n",
       "        vertical-align: top;\n",
       "    }\n",
       "\n",
       "    .dataframe thead th {\n",
       "        text-align: right;\n",
       "    }\n",
       "</style>\n",
       "<table border=\"1\" class=\"dataframe\">\n",
       "  <thead>\n",
       "    <tr style=\"text-align: right;\">\n",
       "      <th></th>\n",
       "      <th>Unnamed: 0</th>\n",
       "      <th>transaction_id</th>\n",
       "      <th>customer_name_transaction</th>\n",
       "      <th>amount</th>\n",
       "      <th>transaction_date</th>\n",
       "      <th>matched_name</th>\n",
       "      <th>customer_id</th>\n",
       "      <th>customer_name_customer</th>\n",
       "      <th>email</th>\n",
       "    </tr>\n",
       "  </thead>\n",
       "  <tbody>\n",
       "    <tr>\n",
       "      <th>0</th>\n",
       "      <td>0</td>\n",
       "      <td>101</td>\n",
       "      <td>John Smith</td>\n",
       "      <td>784</td>\n",
       "      <td>2023-01-31</td>\n",
       "      <td>John Smith</td>\n",
       "      <td>1.0</td>\n",
       "      <td>John Smith</td>\n",
       "      <td>john.smith@email.com</td>\n",
       "    </tr>\n",
       "    <tr>\n",
       "      <th>1</th>\n",
       "      <td>1</td>\n",
       "      <td>102</td>\n",
       "      <td>Jane Doe</td>\n",
       "      <td>659</td>\n",
       "      <td>2023-02-28</td>\n",
       "      <td>Jane Doe</td>\n",
       "      <td>2.0</td>\n",
       "      <td>Jane Doe</td>\n",
       "      <td>jane.doe@email.com</td>\n",
       "    </tr>\n",
       "    <tr>\n",
       "      <th>2</th>\n",
       "      <td>2</td>\n",
       "      <td>103</td>\n",
       "      <td>Michael Jonson</td>\n",
       "      <td>729</td>\n",
       "      <td>2023-03-31</td>\n",
       "      <td>NaN</td>\n",
       "      <td>NaN</td>\n",
       "      <td>NaN</td>\n",
       "      <td>NaN</td>\n",
       "    </tr>\n",
       "    <tr>\n",
       "      <th>3</th>\n",
       "      <td>3</td>\n",
       "      <td>104</td>\n",
       "      <td>Chris Lee</td>\n",
       "      <td>292</td>\n",
       "      <td>2023-04-30</td>\n",
       "      <td>Chris Lee</td>\n",
       "      <td>4.0</td>\n",
       "      <td>Chris Lee</td>\n",
       "      <td>c.lee@email.com</td>\n",
       "    </tr>\n",
       "    <tr>\n",
       "      <th>4</th>\n",
       "      <td>4</td>\n",
       "      <td>105</td>\n",
       "      <td>Katherine Davis</td>\n",
       "      <td>935</td>\n",
       "      <td>2023-05-31</td>\n",
       "      <td>Katherine Davis</td>\n",
       "      <td>5.0</td>\n",
       "      <td>Katherine Davis</td>\n",
       "      <td>k.davis@email.com</td>\n",
       "    </tr>\n",
       "    <tr>\n",
       "      <th>5</th>\n",
       "      <td>5</td>\n",
       "      <td>106</td>\n",
       "      <td>David Martinez</td>\n",
       "      <td>863</td>\n",
       "      <td>2023-06-30</td>\n",
       "      <td>David Martinez</td>\n",
       "      <td>6.0</td>\n",
       "      <td>David Martinez</td>\n",
       "      <td>d.martinez@email.com</td>\n",
       "    </tr>\n",
       "    <tr>\n",
       "      <th>6</th>\n",
       "      <td>6</td>\n",
       "      <td>107</td>\n",
       "      <td>Sarah Brown</td>\n",
       "      <td>807</td>\n",
       "      <td>2023-07-31</td>\n",
       "      <td>NaN</td>\n",
       "      <td>NaN</td>\n",
       "      <td>NaN</td>\n",
       "      <td>NaN</td>\n",
       "    </tr>\n",
       "    <tr>\n",
       "      <th>7</th>\n",
       "      <td>7</td>\n",
       "      <td>108</td>\n",
       "      <td>James Wilson</td>\n",
       "      <td>459</td>\n",
       "      <td>2023-08-31</td>\n",
       "      <td>James Wilson</td>\n",
       "      <td>8.0</td>\n",
       "      <td>James Wilson</td>\n",
       "      <td>j.wilson@email.com</td>\n",
       "    </tr>\n",
       "    <tr>\n",
       "      <th>8</th>\n",
       "      <td>8</td>\n",
       "      <td>109</td>\n",
       "      <td>Patricia Taylor</td>\n",
       "      <td>109</td>\n",
       "      <td>2023-09-30</td>\n",
       "      <td>Patricia Taylor</td>\n",
       "      <td>9.0</td>\n",
       "      <td>Patricia Taylor</td>\n",
       "      <td>p.taylor@email.com</td>\n",
       "    </tr>\n",
       "    <tr>\n",
       "      <th>9</th>\n",
       "      <td>9</td>\n",
       "      <td>110</td>\n",
       "      <td>Robet Miller</td>\n",
       "      <td>823</td>\n",
       "      <td>2023-10-31</td>\n",
       "      <td>NaN</td>\n",
       "      <td>NaN</td>\n",
       "      <td>NaN</td>\n",
       "      <td>NaN</td>\n",
       "    </tr>\n",
       "  </tbody>\n",
       "</table>\n",
       "</div>"
      ],
      "text/plain": [
       "   Unnamed: 0  transaction_id customer_name_transaction  amount  \\\n",
       "0           0             101                John Smith     784   \n",
       "1           1             102                  Jane Doe     659   \n",
       "2           2             103            Michael Jonson     729   \n",
       "3           3             104                 Chris Lee     292   \n",
       "4           4             105           Katherine Davis     935   \n",
       "5           5             106            David Martinez     863   \n",
       "6           6             107               Sarah Brown     807   \n",
       "7           7             108              James Wilson     459   \n",
       "8           8             109           Patricia Taylor     109   \n",
       "9           9             110              Robet Miller     823   \n",
       "\n",
       "  transaction_date     matched_name  customer_id customer_name_customer  \\\n",
       "0       2023-01-31       John Smith          1.0             John Smith   \n",
       "1       2023-02-28         Jane Doe          2.0               Jane Doe   \n",
       "2       2023-03-31              NaN          NaN                    NaN   \n",
       "3       2023-04-30        Chris Lee          4.0              Chris Lee   \n",
       "4       2023-05-31  Katherine Davis          5.0        Katherine Davis   \n",
       "5       2023-06-30   David Martinez          6.0         David Martinez   \n",
       "6       2023-07-31              NaN          NaN                    NaN   \n",
       "7       2023-08-31     James Wilson          8.0           James Wilson   \n",
       "8       2023-09-30  Patricia Taylor          9.0        Patricia Taylor   \n",
       "9       2023-10-31              NaN          NaN                    NaN   \n",
       "\n",
       "                  email  \n",
       "0  john.smith@email.com  \n",
       "1    jane.doe@email.com  \n",
       "2                   NaN  \n",
       "3       c.lee@email.com  \n",
       "4     k.davis@email.com  \n",
       "5  d.martinez@email.com  \n",
       "6                   NaN  \n",
       "7    j.wilson@email.com  \n",
       "8    p.taylor@email.com  \n",
       "9                   NaN  "
      ]
     },
     "execution_count": 2,
     "metadata": {},
     "output_type": "execute_result"
    }
   ],
   "source": [
    "import pandas as pd\n",
    "\n",
    "data = pd.read_csv('consolidated_data.csv')\n",
    "\n",
    "print(data.info())\n",
    "data.head(10)\n"
   ]
  },
  {
   "cell_type": "code",
   "execution_count": 3,
   "id": "6c5cf754-00a7-4b48-a341-28e57aa59176",
   "metadata": {},
   "outputs": [
    {
     "name": "stdout",
     "output_type": "stream",
     "text": [
      "Unnamed: 0                   0\n",
      "transaction_id               0\n",
      "customer_name_transaction    0\n",
      "amount                       0\n",
      "transaction_date             0\n",
      "matched_name                 3\n",
      "customer_id                  3\n",
      "customer_name_customer       3\n",
      "email                        3\n",
      "dtype: int64\n"
     ]
    }
   ],
   "source": [
    "print(data.isnull().sum())\n"
   ]
  },
  {
   "cell_type": "code",
   "execution_count": 4,
   "id": "2dcdb17c-eff2-4208-8fd3-9169f7237c10",
   "metadata": {},
   "outputs": [
    {
     "name": "stdout",
     "output_type": "stream",
     "text": [
      "       Unnamed: 0  transaction_id      amount  customer_id\n",
      "count    10.00000        10.00000   10.000000      7.00000\n",
      "mean      4.50000       105.50000  646.000000      5.00000\n",
      "std       3.02765         3.02765  271.337428      2.94392\n",
      "min       0.00000       101.00000  109.000000      1.00000\n",
      "25%       2.25000       103.25000  509.000000      3.00000\n",
      "50%       4.50000       105.50000  756.500000      5.00000\n",
      "75%       6.75000       107.75000  819.000000      7.00000\n",
      "max       9.00000       110.00000  935.000000      9.00000\n"
     ]
    }
   ],
   "source": [
    "print(data.describe())\n"
   ]
  },
  {
   "cell_type": "code",
   "execution_count": 6,
   "id": "b82437f7-2b6a-463c-92c6-956cdfe2ae26",
   "metadata": {},
   "outputs": [
    {
     "name": "stdout",
     "output_type": "stream",
     "text": [
      "Customers: 7\n"
     ]
    }
   ],
   "source": [
    "unique_customers = data['customer_id'].nunique()\n",
    "print(f\"Customers: {unique_customers}\")\n"
   ]
  },
  {
   "cell_type": "code",
   "execution_count": 7,
   "id": "a6b75315-52f0-4cb4-8875-a6c174039337",
   "metadata": {},
   "outputs": [
    {
     "name": "stdout",
     "output_type": "stream",
     "text": [
      "customer_name_customer\n",
      "Katherine Davis    935\n",
      "David Martinez     863\n",
      "John Smith         784\n",
      "Jane Doe           659\n",
      "James Wilson       459\n",
      "Chris Lee          292\n",
      "Patricia Taylor    109\n",
      "Name: amount, dtype: int64\n"
     ]
    }
   ],
   "source": [
    "total_by_customer = data.groupby('customer_name_customer')['amount'].sum().sort_values(ascending=False)\n",
    "print(total_by_customer)\n"
   ]
  },
  {
   "cell_type": "code",
   "execution_count": 8,
   "id": "698e774d-1c36-40f6-9a0a-ec740177a9e8",
   "metadata": {},
   "outputs": [
    {
     "data": {
      "image/png": "[encoded data removed]",
      "text/plain": [
       "<Figure size 1200x600 with 1 Axes>"
      ]
     },
     "metadata": {},
     "output_type": "display_data"
    }
   ],
   "source": [
    "data['transaction_date'] = pd.to_datetime(data['transaction_date'])\n",
    "monthly_trends = data.groupby(data['transaction_date'].dt.to_period('M'))['amount'].sum()\n",
    "\n",
    "\n",
    "import matplotlib.pyplot as plt\n",
    "monthly_trends.plot(kind='bar', figsize=(12, 6), title=\"Monthly Purchase Trends\")\n",
    "plt.xlabel(\"Month\")\n",
    "plt.ylabel(\"Total Amount\")\n",
    "plt.show()\n"
   ]
  },
  {
   "cell_type": "code",
   "execution_count": 11,
   "id": "c98c23f2-77bb-401e-a48f-e82e87d33b15",
   "metadata": {},
   "outputs": [
    {
     "data": {
      "image/png": "[encoded data removed]",
      "text/plain": [
       "<Figure size 640x480 with 1 Axes>"
      ]
     },
     "metadata": {},
     "output_type": "display_data"
    }
   ],
   "source": [
    "data['month'] = data['transaction_date'].dt.month\n",
    "seasonal_trends = data.groupby('month')['amount'].sum()\n",
    "seasonal_trends.plot(kind='line', title=\"Seasonal Purchase Trends\")\n",
    "plt.xlabel(\"Month\")\n",
    "plt.ylabel(\"Total Amount\")\n",
    "plt.show()\n",
    "\n"
   ]
  }
 ],
 "metadata": {
  "environment": {
   "kernel": "python3",
   "name": "common-cpu.m111",
   "type": "gcloud",
   "uri": "gcr.io/deeplearning-platform-release/base-cpu:m111"
  },
  "kernelspec": {
   "display_name": "Python 3",
   "language": "python",
   "name": "python3"
  },
  "language_info": {
   "codemirror_mode": {
    "name": "ipython",
    "version": 3
   },
   "file_extension": ".py",
   "mimetype": "text/x-python",
   "name": "python",
   "nbconvert_exporter": "python",
   "pygments_lexer": "ipython3",
   "version": "3.10.12"
  }
 },
 "nbformat": 4,
 "nbformat_minor": 5
}
